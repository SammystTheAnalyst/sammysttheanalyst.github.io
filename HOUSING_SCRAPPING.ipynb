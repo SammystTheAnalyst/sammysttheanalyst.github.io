{
 "cells": [
  {
   "cell_type": "code",
   "execution_count": null,
   "metadata": {},
   "outputs": [
    {
     "ename": "",
     "evalue": "",
     "output_type": "error",
     "traceback": [
      "\u001b[1;31mThe kernel failed to start as a dll could not be loaded.\n",
      "Click <a href='https://aka.ms/kernelFailuresDllLoad'>here</a> for more info."
     ]
    }
   ],
   "source": [
    "import pandas as pd\n",
    "import requests\n",
    "from bs4 import BeautifulSoup"
   ]
  },
  {
   "cell_type": "code",
   "execution_count": null,
   "metadata": {},
   "outputs": [
    {
     "ename": "",
     "evalue": "",
     "output_type": "error",
     "traceback": [
      "\u001b[1;31mThe kernel failed to start as a dll could not be loaded.\n",
      "Click <a href='https://aka.ms/kernelFailuresDllLoad'>here</a> for more info."
     ]
    }
   ],
   "source": [
    "url = \"https://www.propertypro.ng/property-for-sale?search=&auto=&type=&bedroom=&min_price=&max_price=\"\n",
    "\n"
   ]
  },
  {
   "cell_type": "code",
   "execution_count": null,
   "metadata": {},
   "outputs": [],
   "source": [
    "property_ng = {}\n",
    "property_no = 0\n",
    "\n",
    "while True:\n",
    "    \n",
    "    headers = {\"User-Agent\": \"Mozilla/5.0 (Windows NT 10.0; Win64; x64) AppleWebKit/537.36 (KHTML, like Gecko) Chrome/104.0.0.0 Safari/537.36\",}\n",
    "    response = requests.get(url, headers=headers)\n",
    "    data = response.text\n",
    "    soup = BeautifulSoup(data, 'html.parser')\n",
    "    properties = soup.find_all('div',{'class':'single-room-sale listings-property'})\n",
    "\n",
    "    # for prop in properties:\n",
    "\n",
    "    #     date_posted = prop.find('h5', class_=False, id=False).text.replace(',', ' ')\n",
    "    #     date_updated = date_posted.split()[1:4]\n",
    "    #     nature_of_property = prop.find('h4', {'class':\"listings-property-title\"}).text\n",
    "    #     type_of_property = prop.find('h3', {'class':\"listings-property-title2\"}).text\n",
    "    #     amount_of_property = prop.find('h3', {'class':\"listings-price\"}).text\n",
    "    #     address_of_property = prop.find('h4', class_=False, id=False).text\n",
    "    #     no_Beds_Baths_Toilets = prop.find('div', {'class':\"fur-areea\"})\n",
    "    #     no_of_beds_baths_toilets = no_Beds_Baths_Toilets.text.replace('\\n',' ') if no_Beds_Baths_Toilets else \"Not Available\"\n",
    "    #     # print(date_posted,date_updated,nature_of_property,type_of_property,amount_of_property,address_of_property,no_of_beds_baths_toilets)\n",
    "\n",
    "    #     property_no+=1\n",
    "    #     property_ng[property_no] = [date_posted,date_updated,nature_of_property,type_of_property,amount_of_property,address_of_property,no_of_beds_baths_toilets]\n",
    "    # print(property_ng)\n",
    "    url_tag = soup.find('a', {'class':\"page-link\"})\n",
    "    if url_tag.get('href'):\n",
    "        url = 'https://www.propertypro.ng/property-for-sale?' + url_tag.get('href')\n",
    "        print(url)\n",
    "    else:\n",
    "        break\n",
    "\n"
   ]
  },
  {
   "cell_type": "code",
   "execution_count": null,
   "metadata": {},
   "outputs": [
    {
     "ename": "",
     "evalue": "",
     "output_type": "error",
     "traceback": [
      "\u001b[1;31mThe kernel failed to start as a dll could not be loaded.\n",
      "Click <a href='https://aka.ms/kernelFailuresDllLoad'>here</a> for more info."
     ]
    }
   ],
   "source": []
  }
 ],
 "metadata": {
  "interpreter": {
   "hash": "deb4792152b8b9767403eeef0a1b0f34b83d442136ccee9184cd7d1131f09aa0"
  },
  "kernelspec": {
   "display_name": "Python 3.9.12 ('base')",
   "language": "python",
   "name": "python3"
  },
  "language_info": {
   "codemirror_mode": {
    "name": "ipython",
    "version": 3
   },
   "file_extension": ".py",
   "mimetype": "text/x-python",
   "name": "python",
   "nbconvert_exporter": "python",
   "pygments_lexer": "ipython3",
   "version": "3.9.12"
  },
  "orig_nbformat": 4
 },
 "nbformat": 4,
 "nbformat_minor": 2
}
